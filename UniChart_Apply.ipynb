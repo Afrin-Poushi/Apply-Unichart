{
  "nbformat": 4,
  "nbformat_minor": 0,
  "metadata": {
    "colab": {
      "provenance": [],
      "gpuType": "T4",
      "include_colab_link": true
    },
    "kernelspec": {
      "name": "python3",
      "display_name": "Python 3"
    },
    "language_info": {
      "name": "python"
    },
    "accelerator": "GPU"
  },
  "cells": [
    {
      "cell_type": "markdown",
      "metadata": {
        "id": "view-in-github",
        "colab_type": "text"
      },
      "source": [
        "<a href=\"https://colab.research.google.com/github/Afrin-Poushi/Apply-Unichart/blob/main/UniChart_Apply.ipynb\" target=\"_parent\"><img src=\"https://colab.research.google.com/assets/colab-badge.svg\" alt=\"Open In Colab\"/></a>"
      ]
    },
    {
      "cell_type": "code",
      "execution_count": 9,
      "metadata": {
        "colab": {
          "base_uri": "https://localhost:8080/"
        },
        "id": "K_GXectvWhR2",
        "outputId": "687de328-16b0-47c9-fb03-58914f86b601"
      },
      "outputs": [
        {
          "output_type": "stream",
          "name": "stderr",
          "text": [
            "100%|██████████| 34.2k/34.2k [00:00<00:00, 48.6MB/s]\n"
          ]
        },
        {
          "output_type": "stream",
          "name": "stdout",
          "text": [
            "6\n"
          ]
        }
      ],
      "source": [
        "from transformers import DonutProcessor, VisionEncoderDecoderModel\n",
        "from PIL import Image\n",
        "import torch, os, re\n",
        "\n",
        "torch.hub.download_url_to_file('https://raw.githubusercontent.com/vis-nlp/ChartQA/main/ChartQA%20Dataset/val/png/multi_col_1229.png', 'chart_example_1.png')\n",
        "\n",
        "model_name = \"ahmed-masry/unichart-chartqa-960\"\n",
        "image_path = \"/content/chart_example_1.png\"\n",
        "input_prompt = \"<chartqa> What is the lowest value in blue bar? <s_answer>\"\n",
        "\n",
        "model = VisionEncoderDecoderModel.from_pretrained(model_name)\n",
        "processor = DonutProcessor.from_pretrained(model_name)\n",
        "device = torch.device(\"cuda\" if torch.cuda.is_available() else \"cpu\")\n",
        "model.to(device)\n",
        "\n",
        "image = Image.open(image_path).convert(\"RGB\")\n",
        "decoder_input_ids = processor.tokenizer(input_prompt, add_special_tokens=False, return_tensors=\"pt\").input_ids\n",
        "pixel_values = processor(image, return_tensors=\"pt\").pixel_values\n",
        "\n",
        "outputs = model.generate(\n",
        "    pixel_values.to(device),\n",
        "    decoder_input_ids=decoder_input_ids.to(device),\n",
        "    max_length=model.decoder.config.max_position_embeddings,\n",
        "    early_stopping=True,\n",
        "    pad_token_id=processor.tokenizer.pad_token_id,\n",
        "    eos_token_id=processor.tokenizer.eos_token_id,\n",
        "    use_cache=True,\n",
        "    num_beams=4,\n",
        "    bad_words_ids=[[processor.tokenizer.unk_token_id]],\n",
        "    return_dict_in_generate=True,\n",
        ")\n",
        "sequence = processor.batch_decode(outputs.sequences)[0]\n",
        "sequence = sequence.replace(processor.tokenizer.eos_token, \"\").replace(processor.tokenizer.pad_token, \"\")\n",
        "sequence = sequence.split(\"<s_answer>\")[1].strip()\n",
        "print(sequence)\n"
      ]
    },
    {
      "cell_type": "code",
      "source": [
        "input_prompt = \"<extract_data_table> <s_answer>\""
      ],
      "metadata": {
        "id": "m39YryKnXC3-"
      },
      "execution_count": 10,
      "outputs": []
    },
    {
      "cell_type": "code",
      "source": [
        "decoder_input_ids = processor.tokenizer(input_prompt, add_special_tokens=False, return_tensors=\"pt\").input_ids\n",
        "\n",
        "\n",
        "outputs = model.generate(\n",
        "    pixel_values.to(device),\n",
        "    decoder_input_ids=decoder_input_ids.to(device),\n",
        "    max_length=model.decoder.config.max_position_embeddings,\n",
        "    early_stopping=False,\n",
        "    pad_token_id=processor.tokenizer.pad_token_id,\n",
        "    eos_token_id=processor.tokenizer.eos_token_id,\n",
        "    use_cache=False,\n",
        "    num_beams=4,\n",
        "    bad_words_ids=[[processor.tokenizer.unk_token_id]],\n",
        "    return_dict_in_generate=True,\n",
        ")\n",
        "print(processor.batch_decode(outputs.sequences))\n",
        "sequence = processor.batch_decode(outputs.sequences)[0]\n",
        "sequence = sequence.replace(processor.tokenizer.eos_token, \"\").replace(processor.tokenizer.pad_token, \"\")\n",
        "sequence = sequence.split(\"<s_answer>\")[1].strip()\n",
        "print(sequence)"
      ],
      "metadata": {
        "colab": {
          "base_uri": "https://localhost:8080/"
        },
        "id": "oMC8Dit4ZYrl",
        "outputId": "2eca4ed2-ad0d-4b7e-8b6d-c38e1c6e4456"
      },
      "execution_count": 11,
      "outputs": [
        {
          "output_type": "stream",
          "name": "stdout",
          "text": [
            "['<s><extract_data_table> <s_answer> Yes</s>']\n",
            "Yes\n"
          ]
        }
      ]
    },
    {
      "cell_type": "markdown",
      "source": [
        "Here, for data table extraction from the chart is not working with given instruction -\n",
        "\n",
        "> `Data Table Extraction\t<extract_data_table> <s_answer>`\n",
        "\n",
        "\n",
        " but giving output only \"Yes\"."
      ],
      "metadata": {
        "id": "5uGjwUfmLtd_"
      }
    }
  ]
}